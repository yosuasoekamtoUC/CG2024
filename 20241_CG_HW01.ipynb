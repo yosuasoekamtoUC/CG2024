{
 "cells": [
  {
   "cell_type": "code",
   "execution_count": 1,
   "id": "initial_id",
   "metadata": {
    "collapsed": true,
    "ExecuteTime": {
     "end_time": "2024-03-18T13:48:02.141419Z",
     "start_time": "2024-03-18T13:48:02.063137Z"
    }
   },
   "outputs": [
    {
     "name": "stdout",
     "output_type": "stream",
     "text": [
      "pygame 2.5.2 (SDL 2.28.2, Python 3.8.18)\n",
      "Hello from the pygame community. https://www.pygame.org/contribute.html\n"
     ]
    }
   ],
   "source": [
    "import pygame\n",
    "from pygame.locals import *\n",
    "from sys import exit\n",
    "import numpy as np"
   ]
  },
  {
   "cell_type": "code",
   "outputs": [],
   "source": [
    "pygame.init()\n",
    "screen = pygame.display.set_mode((800, 600))\n",
    "screen.fill((255, 255, 255))\n",
    "pygame.display.set_caption(\"Soekamto Yosua S-20235164-CompGraphHW01\")\n",
    "clock = pygame.time.Clock()\n",
    "\n",
    "loop = True\n",
    "press = False\n",
    "\n",
    "x1,y1, x2, y2 = 0, 0, 0, 0\n",
    "clickCount = 0\n",
    "while loop:\n",
    "    try:\n",
    "        # pygame.mouse.set_visible(False)\n",
    "        for event in pygame.event.get():\n",
    "            if event.type == pygame.QUIT:\n",
    "                loop = False\n",
    "        px, py = pygame.mouse.get_pos()\n",
    "        if event.type == pygame.MOUSEBUTTONDOWN:\n",
    "            pygame.draw.rect(screen, (0, 0, 255), (px-5, py-5, 10, 10))\n",
    "            if clickCount < 1:\n",
    "                x1 = px\n",
    "                y1 = py\n",
    "            elif clickCount > 1:\n",
    "                x2 = px\n",
    "                y2 = py\n",
    "                pygame.draw.line(screen, (0, 255, 0), (x1, y1), (x2, y2))\n",
    "                x1 = px\n",
    "                y1 = py\n",
    "            clickCount += 1\n",
    "\n",
    "        if event.type == pygame.MOUSEBUTTONUP:\n",
    "            press == False\n",
    "        pygame.display.update()\n",
    "        clock.tick(1000)\n",
    "    except Exception as e:\n",
    "        print(e)\n",
    "        pygame.quit()\n",
    "pygame.quit()"
   ],
   "metadata": {
    "collapsed": false,
    "ExecuteTime": {
     "end_time": "2024-03-18T13:48:07.329264Z",
     "start_time": "2024-03-18T13:48:02.142598Z"
    }
   },
   "id": "775760813dd30602",
   "execution_count": 2
  }
 ],
 "metadata": {
  "kernelspec": {
   "display_name": "Python 3",
   "language": "python",
   "name": "python3"
  },
  "language_info": {
   "codemirror_mode": {
    "name": "ipython",
    "version": 2
   },
   "file_extension": ".py",
   "mimetype": "text/x-python",
   "name": "python",
   "nbconvert_exporter": "python",
   "pygments_lexer": "ipython2",
   "version": "2.7.6"
  }
 },
 "nbformat": 4,
 "nbformat_minor": 5
}
